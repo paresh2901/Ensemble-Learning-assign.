{
 "cells": [
  {
   "cell_type": "code",
   "execution_count": null,
   "id": "87ffd1d0-e1cb-4622-8a6f-df44a339c4c4",
   "metadata": {},
   "outputs": [],
   "source": [
    "\u001d",
    "#1.Can we use Bagging for regression problems\u0010.\n",
    "Yes, Bagging can be used for regression problems. \n",
    "In this case, it is called a Bagging Regressor,\n",
    "where multiple base regression models (e.g., Decision Trees) are trained on different bootstrap samples, \n",
    "and their predictions are averaged to reduce variance and improve accuracy."
   ]
  },
  {
   "cell_type": "code",
   "execution_count": null,
   "id": "df3b4419-cdfe-46b3-af78-87c4f1e2a3b0",
   "metadata": {},
   "outputs": [],
   "source": [
    "#2. What is the difference between multiple model training and single model training\u0010\n",
    "A Bagging Classifier is an ensemble method that trains multiple models (typically the same type, \n",
    "like Decision Trees) on different bootstrap samples of the dataset.\n",
    "The final prediction is made by majority voting (classification) or averaging (regression)."
   ]
  },
  {
   "cell_type": "code",
   "execution_count": null,
   "id": "77cb0670-6702-48e5-86d2-54fa26cfc397",
   "metadata": {},
   "outputs": [],
   "source": [
    "#3. Explain the concept of feature randomness in Random Forest2\n",
    "\u0011A Bagging Regressor works similarly to a Bagging Classifier but is used for regression tasks.\n",
    "It trains multiple models on different subsets of data and averages their predictions to reduce variance and improve generalization."
   ]
  },
  {
   "cell_type": "code",
   "execution_count": null,
   "id": "e1c8cac0-147f-4ee0-9ecb-f0f1f29c7b1e",
   "metadata": {},
   "outputs": [],
   "source": [
    "#4.What is OOB (Out-of-Bag) Score\n",
    "Bagging helps in reducing overfitting by training multiple models on different random subsets of the data. \n",
    "This reduces variance and prevents the model from memorizing noise, leading to better generalization."
   ]
  },
  {
   "cell_type": "code",
   "execution_count": null,
   "id": "e64108db-7e3e-4072-8931-b8c7fe5bb00d",
   "metadata": {},
   "outputs": [],
   "source": [
    "#5.How can you measure the importance of features in a Random Forest model\u0010\n",
    "\u0006Bootstrap sampling involves randomly selecting samples with replacement from the training dataset. \n",
    "Each model in the ensemble is trained on a different bootstrap sample, ensuring diversity and reducing overfitting."
   ]
  },
  {
   "cell_type": "code",
   "execution_count": null,
   "id": "17b571d0-c3a4-43be-90f7-1039d9ebffe6",
   "metadata": {},
   "outputs": [],
   "source": [
    "#6.Explain the working principle of a Bagging Classifier2\n",
    "In Random Forest, each tree is trained on a random subset of features (not all features). \n",
    "This decorrelates the trees, making the ensemble more robust and reducing overfitting."
   ]
  },
  {
   "cell_type": "code",
   "execution_count": null,
   "id": "3d08a9de-a794-49b3-997f-48ee31db9b59",
   "metadata": {},
   "outputs": [],
   "source": [
    "#7. How do you evaluate a Bagging Classifier’s performance\u0010\n",
    "The OOB score is an estimate of a model’s performance calculated using the data not included in the bootstrap sample (out-of-bag samples).\n",
    "It acts as a built-in validation metric in Bagging."
   ]
  },
  {
   "cell_type": "code",
   "execution_count": null,
   "id": "ad18c6f6-3721-4faa-ad5d-9317e866824e",
   "metadata": {},
   "outputs": [],
   "source": [
    "#8.How does a Bagging Regressor work\u0010\n",
    "Feature importance in Random Forest is measured using:\n",
    "\n",
    "Gini Importance (Mean Decrease in Impurity): Measures how much each feature reduces impurity in splits.\n",
    "Permutation Importance: Evaluates the drop in performance when a feature’s values are randomly shuffled."
   ]
  },
  {
   "cell_type": "code",
   "execution_count": null,
   "id": "c63d8b15-f164-43b5-b2fd-9f2f73c0d9bd",
   "metadata": {},
   "outputs": [],
   "source": [
    "#9.What is the main advantage of ensemble techniques\u0010\n",
    "\u001d",
    "Ensemble learning is a technique that combines multiple models to produce a more robust\n",
    "and accurate prediction than any single model."
   ]
  },
  {
   "cell_type": "code",
   "execution_count": null,
   "id": "908277c8-cdca-41de-8c9f-a14ac77de08f",
   "metadata": {},
   "outputs": [],
   "source": [
    "#10.What is the main challenge of ensemble methods\u0010\n",
    "\u001d",
    "\u001d",
    "Ensemble techniques improve model performance by combining multiple models,\n",
    "reducing variance (Bagging), bias (Boosting), or both (Stacking)."
   ]
  },
  {
   "cell_type": "code",
   "execution_count": null,
   "id": "c06e8bbe-660c-48b6-9148-89fd3f54ff29",
   "metadata": {},
   "outputs": [],
   "source": [
    "#11.Explain the key idea behind ensemble techniques2\n",
    "\u001d",
    "Bagging: Reduces variance by training models on different subsets (e.g., Random Forest).\n",
    "Boosting: Reduces bias by sequentially training models to correct previous errors (e.g., AdaBoost, XGBoost).\n",
    "Stacking: Combines predictions from multiple models using a meta-model."
   ]
  },
  {
   "cell_type": "code",
   "execution_count": null,
   "id": "28a1a08f-6bb6-41f3-bbc4-0486c94fb2d1",
   "metadata": {},
   "outputs": [],
   "source": [
    "#12.What is a Random Forest Classifier\u0010\n",
    "\u001d",
    "They improve model performance by reducing variance and bias, leading to better generalization."
   ]
  },
  {
   "cell_type": "code",
   "execution_count": null,
   "id": "6866c8f7-e868-4bfb-88bb-f0ea2d44c443",
   "metadata": {},
   "outputs": [],
   "source": [
    "#13.What are the main types of ensemble techniques\u0010\n",
    "\u001d",
    "\u0011Computationally expensive (requires training multiple models).\n",
    "Harder to interpret compared to individual models."
   ]
  },
  {
   "cell_type": "code",
   "execution_count": null,
   "id": "4ec12b22-aaf5-4bb7-9805-0e9f9c749906",
   "metadata": {},
   "outputs": [],
   "source": [
    "#14.What is ensemble learning in machine learning\u0010\n",
    "Accuracy / F1-score (for classification tasks).\n",
    "Cross-validation scores.\n",
    "Out-of-Bag (OOB) score."
   ]
  },
  {
   "cell_type": "code",
   "execution_count": null,
   "id": "345c1767-3871-4eff-92af-ddc60859f040",
   "metadata": {},
   "outputs": [],
   "source": [
    "#15.When should we avoid using ensemble methods\u0010\n",
    "\u001d",
    "\u0006Less prone to overfitting.\n",
    "More stable and generalizes better.\n",
    "Handles missing values and noisy data well."
   ]
  },
  {
   "cell_type": "code",
   "execution_count": null,
   "id": "4e5f0f3e-4d51-42e1-a955-0af1e97b2444",
   "metadata": {},
   "outputs": [],
   "source": [
    "#16.How does Bagging help in reducing overfitting\u0010\n",
    "\u001d",
    "\u0017When interpretability is crucial.\n",
    "When the base model already performs well.\n",
    "When computational resources are limited."
   ]
  },
  {
   "cell_type": "code",
   "execution_count": null,
   "id": "d0d2e42f-e30a-453c-a154-bc5f52ef8596",
   "metadata": {},
   "outputs": [],
   "source": [
    "#17.Why is Random Forest better than a single Decision Tree\u0010\n",
    "\u001d",
    "Fraud detection.\n",
    "Medical diagnosis.\n",
    "Stock price prediction.\n",
    "Image recognition."
   ]
  },
  {
   "cell_type": "code",
   "execution_count": null,
   "id": "78e43004-d503-4104-9ab5-58f265fbae16",
   "metadata": {},
   "outputs": [],
   "source": [
    "#18.What is the role of bootstrap sampling in Bagging\u0010\n",
    "\u001d",
    "Bagging (Bootstrap Aggregating): Reduces variance by training models independently on random subsets (Random Forest).\n",
    "Boosting: Reduces bias by sequentially training models, where each model corrects the mistakes of the previous one (AdaBoost, XGBoost)."
   ]
  },
  {
   "cell_type": "code",
   "execution_count": null,
   "id": "c9836c79-66dd-415c-8be5-7b74b27a1b8b",
   "metadata": {},
   "outputs": [],
   "source": [
    "#19.What are some real-world applications of ensemble techniques\u0010\n",
    "Real-world applications of ensemble techniques include:\n",
    "\n",
    "Finance – Fraud detection and stock price prediction.\n",
    "Healthcare – Disease diagnosis and medical image analysis.\n",
    "Marketing – Customer segmentation and churn prediction.\n",
    "Cybersecurity – Spam detection and intrusion detection systems.\n",
    "E-commerce – Product recommendation systems.\n",
    "Autonomous Vehicles – Object detection and path planning.\n",
    "Weather Forecasting – Improving prediction accuracy using multiple models.\n",
    "Ensemble methods enhance model robustness and accuracy across these domains."
   ]
  },
  {
   "cell_type": "code",
   "execution_count": null,
   "id": "fe51de09-cf50-4e75-89f9-90ebfa72c333",
   "metadata": {},
   "outputs": [],
   "source": [
    "#20.What is the difference between Bagging and Boosting?\n",
    "Bagging and Boosting are both ensemble learning techniques but differ in approach:\n",
    "\n",
    "Bagging (Bootstrap Aggregating):\n",
    "\n",
    "Trains multiple models independently on random subsets of data (with replacement).\n",
    "Reduces variance and prevents overfitting (e.g., Random Forest).\n",
    "Boosting:\n",
    "\n",
    "Trains models sequentially, where each model corrects the errors of the previous one.\n",
    "Reduces bias and improves weak learners (e.g., AdaBoost, XGBoost).\n",
    "Key Difference: Bagging focuses on reducing variance, while Boosting aims to reduce bias."
   ]
  },
  {
   "cell_type": "code",
   "execution_count": null,
   "id": "fc653ea2-1c93-4fa0-b6e4-fc7dd95cfc7a",
   "metadata": {},
   "outputs": [],
   "source": []
  },
  {
   "cell_type": "code",
   "execution_count": null,
   "id": "9369b2ad-1ffc-40ff-bd16-ac5e5527071e",
   "metadata": {},
   "outputs": [],
   "source": [
    "#PRACTICAL EXAMPLES"
   ]
  },
  {
   "cell_type": "code",
   "execution_count": 2,
   "id": "3984a9f4-f953-44c1-9c20-e4e5bd70564c",
   "metadata": {},
   "outputs": [
    {
     "name": "stderr",
     "output_type": "stream",
     "text": [
      "C:\\Users\\PC DOCTOR\\anaconda3\\Lib\\site-packages\\sklearn\\ensemble\\_base.py:166: FutureWarning: `base_estimator` was renamed to `estimator` in version 1.2 and will be removed in 1.4.\n",
      "  warnings.warn(\n"
     ]
    },
    {
     "name": "stdout",
     "output_type": "stream",
     "text": [
      "Bagging Classifier Accuracy: 0.8850\n"
     ]
    }
   ],
   "source": [
    "#1.Train a Bagging Classifier using Decision Trees on a sample dataset and print model accuracy2\n",
    "from sklearn.ensemble import BaggingClassifier, BaggingRegressor\n",
    "from sklearn.tree import DecisionTreeClassifier, DecisionTreeRegressor\n",
    "from sklearn.datasets import make_classification, make_regression\n",
    "from sklearn.model_selection import train_test_split\n",
    "from sklearn.metrics import accuracy_score, mean_squared_error\n",
    "\n",
    "# Train a Bagging Classifier using Decision Trees\n",
    "X_cls, y_cls = make_classification(n_samples=1000, n_features=20, random_state=42)\n",
    "X_train_cls, X_test_cls, y_train_cls, y_test_cls = train_test_split(X_cls, y_cls, test_size=0.2, random_state=42)\n",
    "\n",
    "bagging_clf = BaggingClassifier(base_estimator=DecisionTreeClassifier(), n_estimators=50, random_state=42)\n",
    "bagging_clf.fit(X_train_cls, y_train_cls)\n",
    "y_pred_cls = bagging_clf.predict(X_test_cls)\n",
    "accuracy = accuracy_score(y_test_cls, y_pred_cls)\n",
    "print(f'Bagging Classifier Accuracy: {accuracy:.4f}')"
   ]
  },
  {
   "cell_type": "code",
   "execution_count": 3,
   "id": "48c801d5-649f-4eea-9297-dcdc461183a4",
   "metadata": {},
   "outputs": [
    {
     "name": "stderr",
     "output_type": "stream",
     "text": [
      "C:\\Users\\PC DOCTOR\\anaconda3\\Lib\\site-packages\\sklearn\\ensemble\\_base.py:166: FutureWarning: `base_estimator` was renamed to `estimator` in version 1.2 and will be removed in 1.4.\n",
      "  warnings.warn(\n"
     ]
    },
    {
     "name": "stdout",
     "output_type": "stream",
     "text": [
      "Bagging Regressor MSE: 7118.4528\n"
     ]
    }
   ],
   "source": [
    "#2.Train a Bagging Regressor using Decision Trees and evaluate using Mean Squared Error (MSE)2\n",
    "# Train a Bagging Regressor using Decision Trees\n",
    "X_reg, y_reg = make_regression(n_samples=1000, n_features=20, noise=0.1, random_state=42)\n",
    "X_train_reg, X_test_reg, y_train_reg, y_test_reg = train_test_split(X_reg, y_reg, test_size=0.2, random_state=42)\n",
    "\n",
    "bagging_reg = BaggingRegressor(base_estimator=DecisionTreeRegressor(), n_estimators=50, random_state=42)\n",
    "bagging_reg.fit(X_train_reg, y_train_reg)\n",
    "y_pred_reg = bagging_reg.predict(X_test_reg)\n",
    "mse = mean_squared_error(y_test_reg, y_pred_reg)\n",
    "print(f'Bagging Regressor MSE: {mse:.4f}')"
   ]
  },
  {
   "cell_type": "code",
   "execution_count": 4,
   "id": "943036bd-79f9-4562-a959-6065b998900b",
   "metadata": {},
   "outputs": [
    {
     "name": "stdout",
     "output_type": "stream",
     "text": [
      "                    Feature  Importance\n",
      "23               worst area    0.153892\n",
      "27     worst concave points    0.144663\n",
      "7       mean concave points    0.106210\n",
      "20             worst radius    0.077987\n",
      "6            mean concavity    0.068001\n",
      "22          worst perimeter    0.067115\n",
      "2            mean perimeter    0.053270\n",
      "0               mean radius    0.048703\n",
      "3                 mean area    0.047555\n",
      "26          worst concavity    0.031802\n",
      "13               area error    0.022407\n",
      "21            worst texture    0.021749\n",
      "25        worst compactness    0.020266\n",
      "10             radius error    0.020139\n",
      "5          mean compactness    0.013944\n",
      "1              mean texture    0.013591\n",
      "12          perimeter error    0.011303\n",
      "24         worst smoothness    0.010644\n",
      "28           worst symmetry    0.010120\n",
      "16          concavity error    0.009386\n",
      "4           mean smoothness    0.007285\n",
      "19  fractal dimension error    0.005321\n",
      "15        compactness error    0.005253\n",
      "29  worst fractal dimension    0.005210\n",
      "11            texture error    0.004724\n",
      "14         smoothness error    0.004271\n",
      "18           symmetry error    0.004018\n",
      "9    mean fractal dimension    0.003886\n",
      "8             mean symmetry    0.003770\n",
      "17     concave points error    0.003513\n"
     ]
    }
   ],
   "source": [
    "#3.Train a Random Forest Classifier on the Breast Cancer dataset and print feature importance scores2\n",
    "from sklearn.datasets import load_breast_cancer\n",
    "from sklearn.model_selection import train_test_split\n",
    "from sklearn.ensemble import RandomForestClassifier\n",
    "import pandas as pd\n",
    "import numpy as np\n",
    "\n",
    "# Load the dataset\n",
    "data = load_breast_cancer()\n",
    "X = data.data\n",
    "y = data.target\n",
    "\n",
    "# Split into training and test sets\n",
    "X_train, X_test, y_train, y_test = train_test_split(X, y, test_size=0.2, random_state=42)\n",
    "\n",
    "# Train the Random Forest Classifier\n",
    "clf = RandomForestClassifier(n_estimators=100, random_state=42)\n",
    "clf.fit(X_train, y_train)\n",
    "\n",
    "# Get feature importance scores\n",
    "feature_importances = clf.feature_importances_\n",
    "\n",
    "# Create a DataFrame for better visualization\n",
    "feature_importance_df = pd.DataFrame({'Feature': data.feature_names, 'Importance': feature_importances})\n",
    "feature_importance_df = feature_importance_df.sort_values(by='Importance', ascending=False)\n",
    "\n",
    "# Print feature importance scores\n",
    "print(feature_importance_df)\n"
   ]
  },
  {
   "cell_type": "code",
   "execution_count": 5,
   "id": "38c157a4-675d-4e0b-a573-b8a2dc99a07f",
   "metadata": {},
   "outputs": [
    {
     "name": "stdout",
     "output_type": "stream",
     "text": [
      "                    Feature  Importance\n",
      "23               worst area    0.153892\n",
      "27     worst concave points    0.144663\n",
      "7       mean concave points    0.106210\n",
      "20             worst radius    0.077987\n",
      "6            mean concavity    0.068001\n",
      "22          worst perimeter    0.067115\n",
      "2            mean perimeter    0.053270\n",
      "0               mean radius    0.048703\n",
      "3                 mean area    0.047555\n",
      "26          worst concavity    0.031802\n",
      "13               area error    0.022407\n",
      "21            worst texture    0.021749\n",
      "25        worst compactness    0.020266\n",
      "10             radius error    0.020139\n",
      "5          mean compactness    0.013944\n",
      "1              mean texture    0.013591\n",
      "12          perimeter error    0.011303\n",
      "24         worst smoothness    0.010644\n",
      "28           worst symmetry    0.010120\n",
      "16          concavity error    0.009386\n",
      "4           mean smoothness    0.007285\n",
      "19  fractal dimension error    0.005321\n",
      "15        compactness error    0.005253\n",
      "29  worst fractal dimension    0.005210\n",
      "11            texture error    0.004724\n",
      "14         smoothness error    0.004271\n",
      "18           symmetry error    0.004018\n",
      "9    mean fractal dimension    0.003886\n",
      "8             mean symmetry    0.003770\n",
      "17     concave points error    0.003513\n",
      "Random Forest Regressor MSE: 0.03276140350877193\n",
      "Decision Tree Regressor MSE: 0.05263157894736842\n"
     ]
    }
   ],
   "source": [
    "#4.Train a Random Forest Regressor and compare its performance with a single Decision Tree2\n",
    "from sklearn.datasets import load_breast_cancer\n",
    "from sklearn.model_selection import train_test_split\n",
    "from sklearn.ensemble import RandomForestClassifier, RandomForestRegressor\n",
    "from sklearn.tree import DecisionTreeRegressor\n",
    "from sklearn.metrics import mean_squared_error\n",
    "import pandas as pd\n",
    "import numpy as np\n",
    "\n",
    "# Load the dataset\n",
    "data = load_breast_cancer()\n",
    "X = data.data\n",
    "y = data.target\n",
    "\n",
    "# Split into training and test sets\n",
    "X_train, X_test, y_train, y_test = train_test_split(X, y, test_size=0.2, random_state=42)\n",
    "\n",
    "# Train the Random Forest Classifier\n",
    "clf = RandomForestClassifier(n_estimators=100, random_state=42)\n",
    "clf.fit(X_train, y_train)\n",
    "\n",
    "# Get feature importance scores\n",
    "feature_importances = clf.feature_importances_\n",
    "\n",
    "# Create a DataFrame for better visualization\n",
    "feature_importance_df = pd.DataFrame({'Feature': data.feature_names, 'Importance': feature_importances})\n",
    "feature_importance_df = feature_importance_df.sort_values(by='Importance', ascending=False)\n",
    "\n",
    "# Print feature importance scores\n",
    "print(feature_importance_df)\n",
    "\n",
    "# Train a Random Forest Regressor\n",
    "rf_regressor = RandomForestRegressor(n_estimators=100, random_state=42)\n",
    "rf_regressor.fit(X_train, y_train)\n",
    "y_pred_rf = rf_regressor.predict(X_test)\n",
    "rf_mse = mean_squared_error(y_test, y_pred_rf)\n",
    "\n",
    "# Train a single Decision Tree Regressor\n",
    "dt_regressor = DecisionTreeRegressor(random_state=42)\n",
    "dt_regressor.fit(X_train, y_train)\n",
    "y_pred_dt = dt_regressor.predict(X_test)\n",
    "dt_mse = mean_squared_error(y_test, y_pred_dt)\n",
    "\n",
    "# Compare performance\n",
    "print(f\"Random Forest Regressor MSE: {rf_mse}\")\n",
    "print(f\"Decision Tree Regressor MSE: {dt_mse}\")\n"
   ]
  },
  {
   "cell_type": "code",
   "execution_count": 6,
   "id": "0d36deeb-2cba-4d70-996d-921be183d067",
   "metadata": {},
   "outputs": [
    {
     "name": "stdout",
     "output_type": "stream",
     "text": [
      "                    Feature  Importance\n",
      "23               worst area    0.153892\n",
      "27     worst concave points    0.144663\n",
      "7       mean concave points    0.106210\n",
      "20             worst radius    0.077987\n",
      "6            mean concavity    0.068001\n",
      "22          worst perimeter    0.067115\n",
      "2            mean perimeter    0.053270\n",
      "0               mean radius    0.048703\n",
      "3                 mean area    0.047555\n",
      "26          worst concavity    0.031802\n",
      "13               area error    0.022407\n",
      "21            worst texture    0.021749\n",
      "25        worst compactness    0.020266\n",
      "10             radius error    0.020139\n",
      "5          mean compactness    0.013944\n",
      "1              mean texture    0.013591\n",
      "12          perimeter error    0.011303\n",
      "24         worst smoothness    0.010644\n",
      "28           worst symmetry    0.010120\n",
      "16          concavity error    0.009386\n",
      "4           mean smoothness    0.007285\n",
      "19  fractal dimension error    0.005321\n",
      "15        compactness error    0.005253\n",
      "29  worst fractal dimension    0.005210\n",
      "11            texture error    0.004724\n",
      "14         smoothness error    0.004271\n",
      "18           symmetry error    0.004018\n",
      "9    mean fractal dimension    0.003886\n",
      "8             mean symmetry    0.003770\n",
      "17     concave points error    0.003513\n",
      "Out-of-Bag (OOB) Score: 0.9560439560439561\n",
      "Random Forest Regressor MSE: 0.03276140350877193\n",
      "Decision Tree Regressor MSE: 0.05263157894736842\n"
     ]
    }
   ],
   "source": [
    "#5.Compute the Out-of-Bag (OOB) Score for a Random Forest Classifier2\n",
    "from sklearn.datasets import load_breast_cancer\n",
    "from sklearn.model_selection import train_test_split\n",
    "from sklearn.ensemble import RandomForestClassifier, RandomForestRegressor\n",
    "from sklearn.tree import DecisionTreeRegressor\n",
    "from sklearn.metrics import mean_squared_error\n",
    "import pandas as pd\n",
    "import numpy as np\n",
    "\n",
    "# Load the dataset\n",
    "data = load_breast_cancer()\n",
    "X = data.data\n",
    "y = data.target\n",
    "\n",
    "# Split into training and test sets\n",
    "X_train, X_test, y_train, y_test = train_test_split(X, y, test_size=0.2, random_state=42)\n",
    "\n",
    "# Train the Random Forest Classifier with OOB score\n",
    "clf = RandomForestClassifier(n_estimators=100, random_state=42, oob_score=True)\n",
    "clf.fit(X_train, y_train)\n",
    "\n",
    "# Get feature importance scores\n",
    "feature_importances = clf.feature_importances_\n",
    "\n",
    "# Create a DataFrame for better visualization\n",
    "feature_importance_df = pd.DataFrame({'Feature': data.feature_names, 'Importance': feature_importances})\n",
    "feature_importance_df = feature_importance_df.sort_values(by='Importance', ascending=False)\n",
    "\n",
    "# Print feature importance scores\n",
    "print(feature_importance_df)\n",
    "\n",
    "# Print OOB score\n",
    "print(f\"Out-of-Bag (OOB) Score: {clf.oob_score_}\")\n",
    "\n",
    "# Train a Random Forest Regressor\n",
    "rf_regressor = RandomForestRegressor(n_estimators=100, random_state=42)\n",
    "rf_regressor.fit(X_train, y_train)\n",
    "y_pred_rf = rf_regressor.predict(X_test)\n",
    "rf_mse = mean_squared_error(y_test, y_pred_rf)\n",
    "\n",
    "# Train a single Decision Tree Regressor\n",
    "dt_regressor = DecisionTreeRegressor(random_state=42)\n",
    "dt_regressor.fit(X_train, y_train)\n",
    "y_pred_dt = dt_regressor.predict(X_test)\n",
    "dt_mse = mean_squared_error(y_test, y_pred_dt)\n",
    "\n",
    "# Compare performance\n",
    "print(f\"Random Forest Regressor MSE: {rf_mse}\")\n",
    "print(f\"Decision Tree Regressor MSE: {dt_mse}\")\n"
   ]
  },
  {
   "cell_type": "code",
   "execution_count": 7,
   "id": "e069e21e-5bcf-4384-bd96-14182ee5bf4a",
   "metadata": {},
   "outputs": [
    {
     "name": "stderr",
     "output_type": "stream",
     "text": [
      "C:\\Users\\PC DOCTOR\\anaconda3\\Lib\\site-packages\\sklearn\\ensemble\\_base.py:166: FutureWarning: `base_estimator` was renamed to `estimator` in version 1.2 and will be removed in 1.4.\n",
      "  warnings.warn(\n"
     ]
    },
    {
     "name": "stdout",
     "output_type": "stream",
     "text": [
      "Accuracy: 1.0\n"
     ]
    }
   ],
   "source": [
    "#6.Train a Bagging Classifier using SVM as a base estimator and print accuracy2\n",
    "from sklearn.svm import SVC\n",
    "from sklearn.ensemble import BaggingClassifier\n",
    "from sklearn.datasets import load_iris\n",
    "from sklearn.model_selection import train_test_split\n",
    "from sklearn.metrics import accuracy_score\n",
    "\n",
    "# Load dataset\n",
    "data = load_iris()\n",
    "X, y = data.data, data.target\n",
    "\n",
    "# Split data into train and test sets\n",
    "X_train, X_test, y_train, y_test = train_test_split(X, y, test_size=0.2, random_state=42)\n",
    "\n",
    "# Create an SVM base estimator\n",
    "svm_base = SVC(kernel='linear', probability=True)\n",
    "\n",
    "# Create a Bagging Classifier with SVM as the base estimator\n",
    "bagging_clf = BaggingClassifier(base_estimator=svm_base, n_estimators=10, random_state=42)\n",
    "\n",
    "# Train the model\n",
    "bagging_clf.fit(X_train, y_train)\n",
    "\n",
    "# Predict on the test set\n",
    "y_pred = bagging_clf.predict(X_test)\n",
    "\n",
    "# Compute and print accuracy\n",
    "accuracy = accuracy_score(y_test, y_pred)\n",
    "print(\"Accuracy:\", accuracy)\n"
   ]
  },
  {
   "cell_type": "code",
   "execution_count": 8,
   "id": "a4092603-dd1b-4ed2-8c83-10c52c81cbe9",
   "metadata": {},
   "outputs": [
    {
     "data": {
      "image/png": "[encoded data removed]",
      "text/plain": [
       "<Figure size 800x500 with 1 Axes>"
      ]
     },
     "metadata": {},
     "output_type": "display_data"
    }
   ],
   "source": [
    "#7.Train a Random Forest Classifier with different numbers of trees and compare accuracy2\n",
    "import numpy as np\n",
    "import matplotlib.pyplot as plt\n",
    "from sklearn.ensemble import RandomForestClassifier\n",
    "from sklearn.model_selection import train_test_split\n",
    "from sklearn.datasets import load_iris\n",
    "from sklearn.metrics import accuracy_score\n",
    "\n",
    "# Load dataset\n",
    "data = load_iris()\n",
    "X, y = data.data, data.target\n",
    "\n",
    "# Split into training and testing sets\n",
    "X_train, X_test, y_train, y_test = train_test_split(X, y, test_size=0.2, random_state=42)\n",
    "\n",
    "# Different values of n_estimators (number of trees)\n",
    "n_trees = [1, 5, 10, 50, 100, 200, 500]\n",
    "accuracies = []\n",
    "\n",
    "# Train and evaluate models\n",
    "for n in n_trees:\n",
    "    model = RandomForestClassifier(n_estimators=n, random_state=42)\n",
    "    model.fit(X_train, y_train)\n",
    "    y_pred = model.predict(X_test)\n",
    "    acc = accuracy_score(y_test, y_pred)\n",
    "    accuracies.append(acc)\n",
    "\n",
    "# Plot results\n",
    "plt.figure(figsize=(8, 5))\n",
    "plt.plot(n_trees, accuracies, marker='o', linestyle='-')\n",
    "plt.xlabel('Number of Trees')\n",
    "plt.ylabel('Accuracy')\n",
    "plt.title('Random Forest Accuracy vs Number of Trees')\n",
    "plt.grid()\n",
    "plt.show()"
   ]
  },
  {
   "cell_type": "code",
   "execution_count": 9,
   "id": "966c3c4f-0df9-4c84-9b41-36b48af87411",
   "metadata": {},
   "outputs": [
    {
     "name": "stderr",
     "output_type": "stream",
     "text": [
      "C:\\Users\\PC DOCTOR\\anaconda3\\Lib\\site-packages\\sklearn\\ensemble\\_base.py:166: FutureWarning: `base_estimator` was renamed to `estimator` in version 1.2 and will be removed in 1.4.\n",
      "  warnings.warn(\n"
     ]
    },
    {
     "name": "stdout",
     "output_type": "stream",
     "text": [
      "AUC Score: 0.9219173952366597\n"
     ]
    }
   ],
   "source": [
    "#8.Train a Bagging Classifier using Logistic Regression as a base estimator and print AUC score2\n",
    "import numpy as np\n",
    "import pandas as pd\n",
    "from sklearn.model_selection import train_test_split\n",
    "from sklearn.ensemble import BaggingClassifier\n",
    "from sklearn.linear_model import LogisticRegression\n",
    "from sklearn.metrics import roc_auc_score\n",
    "from sklearn.datasets import make_classification\n",
    "\n",
    "# Generate a synthetic dataset\n",
    "X, y = make_classification(n_samples=1000, n_features=20, random_state=42)\n",
    "\n",
    "# Split the dataset into training and testing sets\n",
    "X_train, X_test, y_train, y_test = train_test_split(X, y, test_size=0.2, random_state=42)\n",
    "\n",
    "# Define the base estimator (Logistic Regression)\n",
    "base_estimator = LogisticRegression(max_iter=500, solver='liblinear')\n",
    "\n",
    "# Create the Bagging Classifier\n",
    "bagging_clf = BaggingClassifier(base_estimator=base_estimator, n_estimators=50, random_state=42)\n",
    "\n",
    "# Train the model\n",
    "bagging_clf.fit(X_train, y_train)\n",
    "\n",
    "# Predict probabilities\n",
    "y_pred_prob = bagging_clf.predict_proba(X_test)[:, 1]\n",
    "\n",
    "# Compute AUC score\n",
    "auc_score = roc_auc_score(y_test, y_pred_prob)\n",
    "\n",
    "# Print the AUC score\n",
    "print(\"AUC Score:\", auc_score)\n"
   ]
  },
  {
   "cell_type": "code",
   "execution_count": null,
   "id": "4e7e53f7-e83b-4bba-a4b6-554e2163d447",
   "metadata": {},
   "outputs": [],
   "source": [
    "#9.Train a Random Forest Regressor and analyze feature importance scores.\n",
    "import numpy as np\n",
    "import pandas as pd\n",
    "import matplotlib.pyplot as plt\n",
    "from sklearn.model_selection import train_test_split\n",
    "from sklearn.ensemble import RandomForestRegressor\n",
    "from sklearn.metrics import mean_squared_error, r2_score\n",
    "\n",
    "# Load dataset\n",
    "df = pd.read_csv(\"your_dataset.csv\")  # Replace with actual dataset\n",
    "\n",
    "# Preprocessing (adjust based on dataset)\n",
    "df = df.dropna()  # Drop missing values\n",
    "X = df.drop(columns=['target'])  # Replace 'target' with your actual target column\n",
    "y = df['target']\n",
    "\n",
    "# Split into training and test sets\n",
    "X_train, X_test, y_train, y_test = train_test_split(X, y, test_size=0.2, random_state=42)\n",
    "\n",
    "# Train Random Forest Regressor\n",
    "rf = RandomForestRegressor(n_estimators=100, random_state=42)\n",
    "rf.fit(X_train, y_train)\n",
    "\n",
    "# Predictions\n",
    "y_pred = rf.predict(X_test)\n",
    "\n",
    "# Model Evaluation\n",
    "mse = mean_squared_error(y_test, y_pred)\n",
    "r2 = r2_score(y_test, y_pred)\n",
    "\n",
    "print(f\"Mean Squared Error: {mse:.4f}\")\n",
    "print(f\"R² Score: {r2:.4f}\")\n",
    "\n",
    "# Feature Importance\n",
    "importances = rf.feature_importances_\n",
    "feature_names = X.columns\n",
    "\n",
    "# Create DataFrame for visualization\n",
    "importance_df = pd.DataFrame({'Feature': feature_names, 'Importance': importances})\n",
    "importance_df = importance_df.sort_values(by='Importance', ascending=False)\n",
    "\n",
    "# Plot feature importance\n",
    "plt.figure(figsize=(10, 6))\n",
    "plt.barh(importance_df['Feature'], importance_df['Importance'])\n",
    "plt.xlabel(\"Feature Importance Score\")\n",
    "plt.ylabel(\"Features\")\n",
    "plt.title(\"Feature Importance in Random Forest Regressor\")\n",
    "plt.gca().invert_yaxis()  # Highest importance at the top\n",
    "plt.show()\n"
   ]
  },
  {
   "cell_type": "code",
   "execution_count": 11,
   "id": "477f7465-cbca-4ee2-93c0-6e6d623d3a72",
   "metadata": {},
   "outputs": [
    {
     "name": "stderr",
     "output_type": "stream",
     "text": [
      "C:\\Users\\PC DOCTOR\\anaconda3\\Lib\\site-packages\\sklearn\\ensemble\\_base.py:166: FutureWarning: `base_estimator` was renamed to `estimator` in version 1.2 and will be removed in 1.4.\n",
      "  warnings.warn(\n"
     ]
    },
    {
     "name": "stdout",
     "output_type": "stream",
     "text": [
      "Bagging Classifier Accuracy: 0.9561\n",
      "Random Forest Classifier Accuracy: 0.9649\n"
     ]
    }
   ],
   "source": [
    "#10.Train an ensemble model using both Bagging and Random Forest and compare accuracy\n",
    "from sklearn.datasets import load_breast_cancer\n",
    "from sklearn.model_selection import train_test_split\n",
    "from sklearn.ensemble import BaggingClassifier, RandomForestClassifier\n",
    "from sklearn.tree import DecisionTreeClassifier\n",
    "from sklearn.metrics import accuracy_score\n",
    "\n",
    "# Load dataset\n",
    "data = load_breast_cancer()\n",
    "X, y = data.data, data.target\n",
    "\n",
    "# Split into training and testing sets\n",
    "X_train, X_test, y_train, y_test = train_test_split(X, y, test_size=0.2, random_state=42)\n",
    "\n",
    "# Train Bagging Classifier with Decision Tree as base estimator\n",
    "bagging_clf = BaggingClassifier(base_estimator=DecisionTreeClassifier(), n_estimators=100, random_state=42)\n",
    "bagging_clf.fit(X_train, y_train)\n",
    "\n",
    "# Train Random Forest Classifier\n",
    "rf_clf = RandomForestClassifier(n_estimators=100, random_state=42)\n",
    "rf_clf.fit(X_train, y_train)\n",
    "\n",
    "# Predict and evaluate\n",
    "bagging_preds = bagging_clf.predict(X_test)\n",
    "rf_preds = rf_clf.predict(X_test)\n",
    "\n",
    "bagging_acc = accuracy_score(y_test, bagging_preds)\n",
    "rf_acc = accuracy_score(y_test, rf_preds)\n",
    "\n",
    "print(f\"Bagging Classifier Accuracy: {bagging_acc:.4f}\")\n",
    "print(f\"Random Forest Classifier Accuracy: {rf_acc:.4f}\")\n"
   ]
  },
  {
   "cell_type": "code",
   "execution_count": 12,
   "id": "40ffc07c-bbef-421c-ace7-a2ca3f0c9050",
   "metadata": {},
   "outputs": [
    {
     "name": "stdout",
     "output_type": "stream",
     "text": [
      "Feature Importances (Random Forest Classifier):\n",
      "worst area                 0.153892\n",
      "worst concave points       0.144663\n",
      "mean concave points        0.106210\n",
      "worst radius               0.077987\n",
      "mean concavity             0.068001\n",
      "worst perimeter            0.067115\n",
      "mean perimeter             0.053270\n",
      "mean radius                0.048703\n",
      "mean area                  0.047555\n",
      "worst concavity            0.031802\n",
      "area error                 0.022407\n",
      "worst texture              0.021749\n",
      "worst compactness          0.020266\n",
      "radius error               0.020139\n",
      "mean compactness           0.013944\n",
      "mean texture               0.013591\n",
      "perimeter error            0.011303\n",
      "worst smoothness           0.010644\n",
      "worst symmetry             0.010120\n",
      "concavity error            0.009386\n",
      "mean smoothness            0.007285\n",
      "fractal dimension error    0.005321\n",
      "compactness error          0.005253\n",
      "worst fractal dimension    0.005210\n",
      "texture error              0.004724\n",
      "smoothness error           0.004271\n",
      "symmetry error             0.004018\n",
      "mean fractal dimension     0.003886\n",
      "mean symmetry              0.003770\n",
      "concave points error       0.003513\n",
      "dtype: float64\n"
     ]
    }
   ],
   "source": [
    "#11.Train a Random Forest Classifier on the Breast Cancer dataset and print feature importance scores.\n",
    "import numpy as np\n",
    "import pandas as pd\n",
    "import matplotlib.pyplot as plt\n",
    "from sklearn.model_selection import train_test_split\n",
    "from sklearn.ensemble import RandomForestClassifier, RandomForestRegressor, BaggingClassifier\n",
    "from sklearn.svm import SVC\n",
    "from sklearn.linear_model import LogisticRegression\n",
    "from sklearn.metrics import accuracy_score, roc_auc_score, mean_squared_error\n",
    "from sklearn.tree import DecisionTreeRegressor\n",
    "from sklearn.datasets import load_breast_cancer, load_diabetes\n",
    "\n",
    "# 1. Train a Random Forest Classifier on the Breast Cancer dataset and print feature importance scores\n",
    "data = load_breast_cancer()\n",
    "X, y = data.data, data.target\n",
    "X_train, X_test, y_train, y_test = train_test_split(X, y, test_size=0.2, random_state=42)\n",
    "\n",
    "rf_clf = RandomForestClassifier(n_estimators=100, random_state=42)\n",
    "rf_clf.fit(X_train, y_train)\n",
    "\n",
    "print(\"Feature Importances (Random Forest Classifier):\")\n",
    "print(pd.Series(rf_clf.feature_importances_, index=data.feature_names).sort_values(ascending=False))\n"
   ]
  },
  {
   "cell_type": "code",
   "execution_count": 13,
   "id": "62968b76-52c0-4708-85f0-fbfd7f5df0cb",
   "metadata": {},
   "outputs": [
    {
     "name": "stdout",
     "output_type": "stream",
     "text": [
      "\n",
      "Mean Squared Error (Random Forest Regressor): 2952.0105887640448\n",
      "Mean Squared Error (Decision Tree Regressor): 4976.797752808989\n"
     ]
    }
   ],
   "source": [
    "#12.Train a Random Forest Regressor and compare its performance with a single Decision Tree.\n",
    "# 2. Train a Random Forest Regressor and compare its performance with a single Decision Tree\n",
    "diabetes = load_diabetes()\n",
    "X_reg, y_reg = diabetes.data, diabetes.target\n",
    "X_train_reg, X_test_reg, y_train_reg, y_test_reg = train_test_split(X_reg, y_reg, test_size=0.2, random_state=42)\n",
    "\n",
    "rf_reg = RandomForestRegressor(n_estimators=100, random_state=42)\n",
    "rf_reg.fit(X_train_reg, y_train_reg)\n",
    "y_pred_rf = rf_reg.predict(X_test_reg)\n",
    "mse_rf = mean_squared_error(y_test_reg, y_pred_rf)\n",
    "\n",
    "dt_reg = DecisionTreeRegressor(random_state=42)\n",
    "dt_reg.fit(X_train_reg, y_train_reg)\n",
    "y_pred_dt = dt_reg.predict(X_test_reg)\n",
    "mse_dt = mean_squared_error(y_test_reg, y_pred_dt)\n",
    "\n",
    "print(\"\\nMean Squared Error (Random Forest Regressor):\", mse_rf)\n",
    "print(\"Mean Squared Error (Decision Tree Regressor):\", mse_dt)"
   ]
  },
  {
   "cell_type": "code",
   "execution_count": 14,
   "id": "1c084d6e-63c8-46b1-bf50-9d486823cf9a",
   "metadata": {},
   "outputs": [
    {
     "name": "stdout",
     "output_type": "stream",
     "text": [
      "\n",
      "OOB Score (Random Forest Classifier): 0.9560439560439561\n"
     ]
    }
   ],
   "source": [
    "#13.Compute the Out-of-Bag (OOB) Score for a Random Forest Classifier.\n",
    "# 3. Compute the Out-of-Bag (OOB) Score for a Random Forest Classifier\n",
    "rf_clf_oob = RandomForestClassifier(n_estimators=100, oob_score=True, random_state=42)\n",
    "rf_clf_oob.fit(X_train, y_train)\n",
    "print(\"\\nOOB Score (Random Forest Classifier):\", rf_clf_oob.oob_score_)\n"
   ]
  },
  {
   "cell_type": "code",
   "execution_count": 15,
   "id": "c3d5b350-d5b4-4dbe-b750-bc39309c7b5e",
   "metadata": {},
   "outputs": [
    {
     "name": "stderr",
     "output_type": "stream",
     "text": [
      "C:\\Users\\PC DOCTOR\\anaconda3\\Lib\\site-packages\\sklearn\\ensemble\\_base.py:166: FutureWarning: `base_estimator` was renamed to `estimator` in version 1.2 and will be removed in 1.4.\n",
      "  warnings.warn(\n"
     ]
    },
    {
     "name": "stdout",
     "output_type": "stream",
     "text": [
      "\n",
      "Bagging Classifier (SVM) Accuracy: 0.9473684210526315\n"
     ]
    }
   ],
   "source": [
    "#14.Train a Bagging Classifier using SVM as a base estimator and print accuracy.\n",
    "# 4. Train a Bagging Classifier using SVM as a base estimator and print accuracy\n",
    "bag_svm = BaggingClassifier(base_estimator=SVC(), n_estimators=50, random_state=42)\n",
    "bag_svm.fit(X_train, y_train)\n",
    "y_pred_svm = bag_svm.predict(X_test)\n",
    "print(\"\\nBagging Classifier (SVM) Accuracy:\", accuracy_score(y_test, y_pred_svm))\n"
   ]
  },
  {
   "cell_type": "code",
   "execution_count": 16,
   "id": "b316755c-d309-4b11-b733-8ce72f39d8fc",
   "metadata": {},
   "outputs": [
    {
     "name": "stdout",
     "output_type": "stream",
     "text": [
      "Random Forest (10 trees) Accuracy: 0.956140350877193\n",
      "Random Forest (50 trees) Accuracy: 0.9649122807017544\n",
      "Random Forest (100 trees) Accuracy: 0.9649122807017544\n",
      "Random Forest (200 trees) Accuracy: 0.9649122807017544\n"
     ]
    }
   ],
   "source": [
    "#15.Train a Random Forest Classifier with different numbers of trees and compare accuracy.\n",
    "# 5. Train a Random Forest Classifier with different numbers of trees and compare accuracy\n",
    "tree_counts = [10, 50, 100, 200]\n",
    "accuracies = []\n",
    "\n",
    "for trees in tree_counts:\n",
    "    rf_temp = RandomForestClassifier(n_estimators=trees, random_state=42)\n",
    "    rf_temp.fit(X_train, y_train)\n",
    "    y_pred_temp = rf_temp.predict(X_test)\n",
    "    acc = accuracy_score(y_test, y_pred_temp)\n",
    "    accuracies.append(acc)\n",
    "    print(f\"Random Forest ({trees} trees) Accuracy: {acc}\")"
   ]
  },
  {
   "cell_type": "code",
   "execution_count": null,
   "id": "1013aff2-114f-44c2-9d6a-ff1fe2a1e000",
   "metadata": {},
   "outputs": [],
   "source": [
    "#16.Train a Bagging Classifier using Logistic Regression as a base estimator and print AUC score.\n",
    "bag_log_reg = BaggingClassifier(base_estimator=LogisticRegression(), n_estimators=50, random_state=42)\n",
    "bag_log_reg.fit(X_train, y_train)\n",
    "y_pred_log_reg = bag_log_reg.predict_proba(X_test)[:, 1]\n",
    "print(\"\\nBagging Classifier (Logistic Regression) AUC Score:\", roc_auc_score(y_test, y_pred_log_reg))"
   ]
  },
  {
   "cell_type": "code",
   "execution_count": 18,
   "id": "09ada5a1-5eab-44ed-8b0e-2e58b25da70b",
   "metadata": {},
   "outputs": [
    {
     "name": "stdout",
     "output_type": "stream",
     "text": [
      "\n",
      "Feature Importances (Random Forest Regressor):\n",
      "bmi    0.355469\n",
      "s5     0.230957\n",
      "bp     0.088408\n",
      "s6     0.071329\n",
      "age    0.058642\n",
      "s2     0.057227\n",
      "s1     0.052784\n",
      "s3     0.051339\n",
      "s4     0.024213\n",
      "sex    0.009633\n",
      "dtype: float64\n"
     ]
    }
   ],
   "source": [
    "#17.Train a Random Forest Regressor and analyze feature importance scores.\n",
    "# 7. Train a Random Forest Regressor and analyze feature importance scores\n",
    "print(\"\\nFeature Importances (Random Forest Regressor):\")\n",
    "print(pd.Series(rf_reg.feature_importances_, index=diabetes.feature_names).sort_values(ascending=False))"
   ]
  },
  {
   "cell_type": "code",
   "execution_count": 19,
   "id": "c4344542-76e2-42cf-b6c9-923aa8f64aff",
   "metadata": {},
   "outputs": [
    {
     "name": "stderr",
     "output_type": "stream",
     "text": [
      "C:\\Users\\PC DOCTOR\\anaconda3\\Lib\\site-packages\\sklearn\\ensemble\\_base.py:166: FutureWarning: `base_estimator` was renamed to `estimator` in version 1.2 and will be removed in 1.4.\n",
      "  warnings.warn(\n"
     ]
    },
    {
     "name": "stdout",
     "output_type": "stream",
     "text": [
      "\n",
      "Ensemble Model (Bagging + Random Forest) Accuracy: 0.9649122807017544\n"
     ]
    }
   ],
   "source": [
    "#18.rain an ensemble model using both Bagging and Random Forest and compare accuracy.\n",
    "# 8. Train an ensemble model using both Bagging and Random Forest and compare accuracy\n",
    "bag_rf = BaggingClassifier(base_estimator=RandomForestClassifier(n_estimators=50, random_state=42), n_estimators=10, random_state=42)\n",
    "bag_rf.fit(X_train, y_train)\n",
    "y_pred_bag_rf = bag_rf.predict(X_test)\n",
    "print(\"\\nEnsemble Model (Bagging + Random Forest) Accuracy:\", accuracy_score(y_test, y_pred_bag_rf))"
   ]
  },
  {
   "cell_type": "code",
   "execution_count": 23,
   "id": "84674873-937d-4c30-b8da-62b639d336ed",
   "metadata": {},
   "outputs": [
    {
     "name": "stdout",
     "output_type": "stream",
     "text": [
      "Best Parameters: {'max_depth': 10, 'min_samples_split': 2, 'n_estimators': 150}\n",
      "Best Accuracy: 0.9583333333333334\n"
     ]
    }
   ],
   "source": [
    "#19.Train a Random Forest Classifier and tune hyperparameters using GridSearchCV.\n",
    "from sklearn.ensemble import RandomForestClassifier\n",
    "from sklearn.model_selection import GridSearchCV\n",
    "from sklearn.datasets import load_iris\n",
    "from sklearn.model_selection import train_test_split\n",
    "\n",
    "# Load dataset\n",
    "data = load_iris()\n",
    "X_train, X_test, y_train, y_test = train_test_split(data.data, data.target, test_size=0.2, random_state=42)\n",
    "\n",
    "# Define model\n",
    "rf = RandomForestClassifier()\n",
    "\n",
    "# Define hyperparameter grid\n",
    "param_grid = {\n",
    "    'n_estimators': [50, 100, 150],\n",
    "    'max_depth': [None, 10, 20],\n",
    "    'min_samples_split': [2, 5, 10]\n",
    "}\n",
    "\n",
    "# Perform Grid Search\n",
    "grid_search = GridSearchCV(rf, param_grid, cv=5, scoring='accuracy', n_jobs=-1)\n",
    "grid_search.fit(X_train, y_train)\n",
    "\n",
    "# Best parameters and accuracy\n",
    "print(\"Best Parameters:\", grid_search.best_params_)\n",
    "print(\"Best Accuracy:\", grid_search.best_score_)\n"
   ]
  },
  {
   "cell_type": "code",
   "execution_count": 22,
   "id": "8b1937eb-b52b-4bdb-8db6-d7962ed1fc5d",
   "metadata": {},
   "outputs": [
    {
     "name": "stdout",
     "output_type": "stream",
     "text": [
      "Estimators: 10, MSE: 4835.34436584121\n"
     ]
    },
    {
     "name": "stderr",
     "output_type": "stream",
     "text": [
      "C:\\Users\\PC DOCTOR\\anaconda3\\Lib\\site-packages\\sklearn\\ensemble\\_base.py:166: FutureWarning: `base_estimator` was renamed to `estimator` in version 1.2 and will be removed in 1.4.\n",
      "  warnings.warn(\n",
      "C:\\Users\\PC DOCTOR\\anaconda3\\Lib\\site-packages\\sklearn\\ensemble\\_base.py:166: FutureWarning: `base_estimator` was renamed to `estimator` in version 1.2 and will be removed in 1.4.\n",
      "  warnings.warn(\n"
     ]
    },
    {
     "name": "stdout",
     "output_type": "stream",
     "text": [
      "Estimators: 50, MSE: 4009.345809691906\n"
     ]
    },
    {
     "name": "stderr",
     "output_type": "stream",
     "text": [
      "C:\\Users\\PC DOCTOR\\anaconda3\\Lib\\site-packages\\sklearn\\ensemble\\_base.py:166: FutureWarning: `base_estimator` was renamed to `estimator` in version 1.2 and will be removed in 1.4.\n",
      "  warnings.warn(\n"
     ]
    },
    {
     "name": "stdout",
     "output_type": "stream",
     "text": [
      "Estimators: 100, MSE: 3925.620817962932\n"
     ]
    }
   ],
   "source": [
    "#20.Train a Bagging Regressor with different numbers of base estimators and compare performance.\n",
    "from sklearn.ensemble import BaggingRegressor\n",
    "from sklearn.tree import DecisionTreeRegressor\n",
    "from sklearn.datasets import make_regression\n",
    "from sklearn.metrics import mean_squared_error\n",
    "\n",
    "# Load dataset\n",
    "X, y = make_regression(n_samples=500, n_features=10, noise=0.1, random_state=42)\n",
    "X_train, X_test, y_train, y_test = train_test_split(X, y, test_size=0.2, random_state=42)\n",
    "\n",
    "# Test different numbers of base estimators\n",
    "for n_estimators in [10, 50, 100]:\n",
    "    model = BaggingRegressor(base_estimator=DecisionTreeRegressor(), n_estimators=n_estimators, random_state=42)\n",
    "    model.fit(X_train, y_train)\n",
    "    y_pred = model.predict(X_test)\n",
    "    mse = mean_squared_error(y_test, y_pred)\n",
    "    print(f\"Estimators: {n_estimators}, MSE: {mse}\")\n"
   ]
  },
  {
   "cell_type": "code",
   "execution_count": 21,
   "id": "a78fa12c-3dd1-49db-9295-804e9d538189",
   "metadata": {},
   "outputs": [
    {
     "name": "stdout",
     "output_type": "stream",
     "text": [
      "Number of misclassified samples: 0\n",
      "              precision    recall  f1-score   support\n",
      "\n",
      "           0       1.00      1.00      1.00        10\n",
      "           1       1.00      1.00      1.00         9\n",
      "           2       1.00      1.00      1.00        11\n",
      "\n",
      "    accuracy                           1.00        30\n",
      "   macro avg       1.00      1.00      1.00        30\n",
      "weighted avg       1.00      1.00      1.00        30\n",
      "\n"
     ]
    }
   ],
   "source": [
    "#21.Train a Random Forest Classifier and analyze misclassified samples.\n",
    "from sklearn.metrics import classification_report\n",
    "\n",
    "rf = RandomForestClassifier(n_estimators=100, random_state=42)\n",
    "rf.fit(X_train, y_train)\n",
    "y_pred = rf.predict(X_test)\n",
    "\n",
    "# Identify misclassified samples\n",
    "misclassified = X_test[y_pred != y_test]\n",
    "misclassified_labels = y_test[y_pred != y_test]\n",
    "\n",
    "print(f\"Number of misclassified samples: {len(misclassified)}\")\n",
    "print(classification_report(y_test, y_pred))\n"
   ]
  },
  {
   "cell_type": "code",
   "execution_count": 24,
   "id": "2fb8214f-3f05-43e7-b679-ddae3876f659",
   "metadata": {},
   "outputs": [
    {
     "name": "stdout",
     "output_type": "stream",
     "text": [
      "Decision Tree Accuracy: 1.0\n",
      "Bagging Classifier Accuracy: 1.0\n"
     ]
    },
    {
     "name": "stderr",
     "output_type": "stream",
     "text": [
      "C:\\Users\\PC DOCTOR\\anaconda3\\Lib\\site-packages\\sklearn\\ensemble\\_base.py:166: FutureWarning: `base_estimator` was renamed to `estimator` in version 1.2 and will be removed in 1.4.\n",
      "  warnings.warn(\n"
     ]
    }
   ],
   "source": [
    "#22.Train a Bagging Classifier and compare its performance with a single Decision Tree Classifier.\n",
    "from sklearn.ensemble import BaggingClassifier\n",
    "from sklearn.tree import DecisionTreeClassifier\n",
    "from sklearn.metrics import accuracy_score\n",
    "\n",
    "# Train single Decision Tree\n",
    "dt = DecisionTreeClassifier(random_state=42)\n",
    "dt.fit(X_train, y_train)\n",
    "dt_pred = dt.predict(X_test)\n",
    "dt_acc = accuracy_score(y_test, dt_pred)\n",
    "\n",
    "# Train Bagging Classifier\n",
    "bagging = BaggingClassifier(base_estimator=DecisionTreeClassifier(), n_estimators=50, random_state=42)\n",
    "bagging.fit(X_train, y_train)\n",
    "bag_pred = bagging.predict(X_test)\n",
    "bag_acc = accuracy_score(y_test, bag_pred)\n",
    "\n",
    "print(f\"Decision Tree Accuracy: {dt_acc}\")\n",
    "print(f\"Bagging Classifier Accuracy: {bag_acc}\")\n"
   ]
  },
  {
   "cell_type": "code",
   "execution_count": 26,
   "id": "f9cc8b9c-3fc0-415a-b4a4-6d6fc962da80",
   "metadata": {},
   "outputs": [
    {
     "data": {
      "image/png": "[encoded data removed]",
      "text/plain": [
       "<Figure size 640x480 with 2 Axes>"
      ]
     },
     "metadata": {},
     "output_type": "display_data"
    }
   ],
   "source": [
    "#23.Train a Random Forest Classifier and visualize the confusion matrix.\n",
    "import matplotlib.pyplot as plt\n",
    "from sklearn.metrics import ConfusionMatrixDisplay, confusion_matrix\n",
    "\n",
    "# Train Random Forest\n",
    "rf.fit(X_train, y_train)\n",
    "y_pred = rf.predict(X_test)\n",
    "\n",
    "# Plot confusion matrix\n",
    "cm = confusion_matrix(y_test, y_pred)\n",
    "disp = ConfusionMatrixDisplay(confusion_matrix=cm, display_labels=data.target_names)\n",
    "disp.plot(cmap=\"Blues\")\n",
    "plt.show()\n"
   ]
  },
  {
   "cell_type": "code",
   "execution_count": 31,
   "id": "2a45fb8a-452b-42ef-b42b-dad7912e87ae",
   "metadata": {},
   "outputs": [
    {
     "name": "stdout",
     "output_type": "stream",
     "text": [
      "Stacking Classifier Accuracy: 1.0\n"
     ]
    }
   ],
   "source": [
    "#24.Train a Stacking Classifier using Decision Trees, SVM, and Logistic Regression, and compare accuracy.\n",
    "from sklearn.ensemble import StackingClassifier\n",
    "from sklearn.svm import SVC\n",
    "from sklearn.linear_model import LogisticRegression\n",
    "\n",
    "# Define base models\n",
    "base_learners = [\n",
    "    ('dt', DecisionTreeClassifier()),\n",
    "    ('svm', SVC(probability=True)),\n",
    "]\n",
    "\n",
    "# Define stacking classifier\n",
    "stacking = StackingClassifier(estimators=base_learners, final_estimator=LogisticRegression())\n",
    "stacking.fit(X_train, y_train)\n",
    "\n",
    "# Evaluate accuracy\n",
    "stacking_acc = stacking.score(X_test, y_test)\n",
    "print(f\"Stacking Classifier Accuracy: {stacking_acc}\")\n"
   ]
  },
  {
   "cell_type": "code",
   "execution_count": 30,
   "id": "49b8ad28-43c8-4ddf-9b8c-3e9bc5fdc8d1",
   "metadata": {},
   "outputs": [
    {
     "name": "stdout",
     "output_type": "stream",
     "text": [
      "Feature 2: Importance 0.46322814174548277\n",
      "Feature 3: Importance 0.4253851421987673\n",
      "Feature 0: Importance 0.08403114891265738\n",
      "Feature 1: Importance 0.027355567143092587\n"
     ]
    },
    {
     "ename": "IndexError",
     "evalue": "index 4 is out of bounds for axis 0 with size 4",
     "output_type": "error",
     "traceback": [
      "\u001b[1;31m---------------------------------------------------------------------------\u001b[0m",
      "\u001b[1;31mIndexError\u001b[0m                                Traceback (most recent call last)",
      "Cell \u001b[1;32mIn[30], line 13\u001b[0m\n\u001b[0;32m     11\u001b[0m \u001b[38;5;66;03m# Print top 5 features\u001b[39;00m\n\u001b[0;32m     12\u001b[0m \u001b[38;5;28;01mfor\u001b[39;00m i \u001b[38;5;129;01min\u001b[39;00m \u001b[38;5;28mrange\u001b[39m(\u001b[38;5;241m5\u001b[39m):\n\u001b[1;32m---> 13\u001b[0m     \u001b[38;5;28mprint\u001b[39m(\u001b[38;5;124mf\u001b[39m\u001b[38;5;124m\"\u001b[39m\u001b[38;5;124mFeature \u001b[39m\u001b[38;5;132;01m{\u001b[39;00mindices[i]\u001b[38;5;132;01m}\u001b[39;00m\u001b[38;5;124m: Importance \u001b[39m\u001b[38;5;132;01m{\u001b[39;00mimportances[indices[i]]\u001b[38;5;132;01m}\u001b[39;00m\u001b[38;5;124m\"\u001b[39m)\n",
      "\u001b[1;31mIndexError\u001b[0m: index 4 is out of bounds for axis 0 with size 4"
     ]
    }
   ],
   "source": [
    "#25.Train a Random Forest Classifier and print the top 5 most important features.\n",
    "import numpy as np\n",
    "\n",
    "# Fit model\n",
    "rf.fit(X_train, y_train)\n",
    "\n",
    "# Get feature importances\n",
    "importances = rf.feature_importances_\n",
    "indices = np.argsort(importances)[::-1]\n",
    "\n",
    "# Print top 5 features\n",
    "for i in range(5):\n",
    "    print(f\"Feature {indices[i]}: Importance {importances[indices[i]]}\")\n"
   ]
  },
  {
   "cell_type": "code",
   "execution_count": 32,
   "id": "6bb69773-fc0e-4567-a6a5-13d501946b3f",
   "metadata": {},
   "outputs": [
    {
     "name": "stderr",
     "output_type": "stream",
     "text": [
      "C:\\Users\\PC DOCTOR\\anaconda3\\Lib\\site-packages\\sklearn\\ensemble\\_base.py:166: FutureWarning: `base_estimator` was renamed to `estimator` in version 1.2 and will be removed in 1.4.\n",
      "  warnings.warn(\n"
     ]
    },
    {
     "name": "stdout",
     "output_type": "stream",
     "text": [
      "Precision: 1.0, Recall: 1.0, F1-score: 1.0\n"
     ]
    }
   ],
   "source": [
    "#26.Train a Bagging Classifier and evaluate performance using Precision, Recall, and F1-score.\n",
    "from sklearn.metrics import precision_score, recall_score, f1_score\n",
    "\n",
    "# Train Bagging Classifier\n",
    "bagging.fit(X_train, y_train)\n",
    "y_pred = bagging.predict(X_test)\n",
    "\n",
    "# Evaluate performance\n",
    "precision = precision_score(y_test, y_pred, average='weighted')\n",
    "recall = recall_score(y_test, y_pred, average='weighted')\n",
    "f1 = f1_score(y_test, y_pred, average='weighted')\n",
    "\n",
    "print(f\"Precision: {precision}, Recall: {recall}, F1-score: {f1}\")\n"
   ]
  },
  {
   "cell_type": "code",
   "execution_count": 33,
   "id": "0e87f9e7-7513-4cab-9284-b9e707d79f71",
   "metadata": {},
   "outputs": [
    {
     "name": "stdout",
     "output_type": "stream",
     "text": [
      "Max Depth: 5, Accuracy: 1.0\n",
      "Max Depth: 10, Accuracy: 1.0\n",
      "Max Depth: 20, Accuracy: 1.0\n",
      "Max Depth: None, Accuracy: 1.0\n"
     ]
    }
   ],
   "source": [
    "#27.Train a Random Forest Classifier and analyze the effect of max_depth on accuracy.\n",
    "for depth in [5, 10, 20, None]:\n",
    "    rf = RandomForestClassifier(max_depth=depth, random_state=42)\n",
    "    rf.fit(X_train, y_train)\n",
    "    acc = rf.score(X_test, y_test)\n",
    "    print(f\"Max Depth: {depth}, Accuracy: {acc}\")\n"
   ]
  },
  {
   "cell_type": "code",
   "execution_count": 34,
   "id": "f503e0f6-adfa-425d-8f47-12077aa79297",
   "metadata": {},
   "outputs": [
    {
     "name": "stdout",
     "output_type": "stream",
     "text": [
      "ROC-AUC Score: 1.0\n"
     ]
    }
   ],
   "source": [
    "#28.Train a Bagging Regressor using different base estimators (DecisionTree and KNeighbors) and compare\n",
    "#performance.\n",
    "from sklearn.metrics import roc_auc_score\n",
    "\n",
    "y_proba = rf.predict_proba(X_test)\n",
    "roc_auc = roc_auc_score(y_test, y_proba, multi_class='ovr')\n",
    "\n",
    "print(f\"ROC-AUC Score: {roc_auc}\")\n"
   ]
  },
  {
   "cell_type": "code",
   "execution_count": 35,
   "id": "648be6d3-3283-4d86-a16a-88f29132b4af",
   "metadata": {},
   "outputs": [
    {
     "name": "stdout",
     "output_type": "stream",
     "text": [
      "ROC-AUC Score: 1.0\n"
     ]
    }
   ],
   "source": [
    "#29.Train a Random Forest Classifier and evaluate its performance using ROC-AUC Score.\n",
    "from sklearn.metrics import roc_auc_score\n",
    "\n",
    "y_proba = rf.predict_proba(X_test)\n",
    "roc_auc = roc_auc_score(y_test, y_proba, multi_class='ovr')\n",
    "\n",
    "print(f\"ROC-AUC Score: {roc_auc}\")\n"
   ]
  },
  {
   "cell_type": "code",
   "execution_count": 36,
   "id": "c5a4e83c-d227-4a6c-9b26-a8405ce186bc",
   "metadata": {},
   "outputs": [
    {
     "name": "stderr",
     "output_type": "stream",
     "text": [
      "C:\\Users\\PC DOCTOR\\anaconda3\\Lib\\site-packages\\sklearn\\ensemble\\_base.py:166: FutureWarning: `base_estimator` was renamed to `estimator` in version 1.2 and will be removed in 1.4.\n",
      "  warnings.warn(\n",
      "C:\\Users\\PC DOCTOR\\anaconda3\\Lib\\site-packages\\sklearn\\ensemble\\_base.py:166: FutureWarning: `base_estimator` was renamed to `estimator` in version 1.2 and will be removed in 1.4.\n",
      "  warnings.warn(\n",
      "C:\\Users\\PC DOCTOR\\anaconda3\\Lib\\site-packages\\sklearn\\ensemble\\_base.py:166: FutureWarning: `base_estimator` was renamed to `estimator` in version 1.2 and will be removed in 1.4.\n",
      "  warnings.warn(\n",
      "C:\\Users\\PC DOCTOR\\anaconda3\\Lib\\site-packages\\sklearn\\ensemble\\_base.py:166: FutureWarning: `base_estimator` was renamed to `estimator` in version 1.2 and will be removed in 1.4.\n",
      "  warnings.warn(\n",
      "C:\\Users\\PC DOCTOR\\anaconda3\\Lib\\site-packages\\sklearn\\ensemble\\_base.py:166: FutureWarning: `base_estimator` was renamed to `estimator` in version 1.2 and will be removed in 1.4.\n",
      "  warnings.warn(\n"
     ]
    },
    {
     "name": "stdout",
     "output_type": "stream",
     "text": [
      "Cross-validation accuracy scores: [0.96666667 0.96666667 0.93333333 0.96666667 1.        ]\n",
      "Mean Accuracy: 0.9666666666666668\n",
      "Standard Deviation: 0.02108185106778919\n"
     ]
    }
   ],
   "source": [
    "#30.Train a Bagging Classifier and evaluate its performance using cross-validatio.\n",
    "from sklearn.ensemble import BaggingClassifier\n",
    "from sklearn.tree import DecisionTreeClassifier\n",
    "from sklearn.model_selection import cross_val_score\n",
    "from sklearn.datasets import load_iris\n",
    "\n",
    "# Load dataset\n",
    "data = load_iris()\n",
    "X, y = data.data, data.target\n",
    "\n",
    "# Define Bagging Classifier\n",
    "bagging = BaggingClassifier(base_estimator=DecisionTreeClassifier(), n_estimators=50, random_state=42)\n",
    "\n",
    "# Perform cross-validation\n",
    "cv_scores = cross_val_score(bagging, X, y, cv=5, scoring='accuracy')\n",
    "\n",
    "# Print results\n",
    "print(f\"Cross-validation accuracy scores: {cv_scores}\")\n",
    "print(f\"Mean Accuracy: {cv_scores.mean()}\")\n",
    "print(f\"Standard Deviation: {cv_scores.std()}\")\n"
   ]
  },
  {
   "cell_type": "code",
   "execution_count": 41,
   "id": "0cbc6691-b602-4d2e-a9dc-83336dc30658",
   "metadata": {},
   "outputs": [
    {
     "name": "stdout",
     "output_type": "stream",
     "text": [
      "Random Forest Accuracy: 1.0000\n",
      "Stacking Classifier Accuracy: 1.0000\n"
     ]
    }
   ],
   "source": [
    "#31.Train a Random Forest Classifier and plot the Precision-Recall curv\u0010e.\n",
    "from sklearn.ensemble import StackingClassifier, RandomForestClassifier\n",
    "from sklearn.linear_model import LogisticRegression\n",
    "from sklearn.model_selection import train_test_split\n",
    "from sklearn.datasets import load_iris\n",
    "from sklearn.metrics import accuracy_score\n",
    "\n",
    "# Load dataset\n",
    "data = load_iris()\n",
    "X_train, X_test, y_train, y_test = train_test_split(data.data, data.target, test_size=0.2, random_state=42)\n",
    "\n",
    "# Define base models\n",
    "base_learners = [\n",
    "    ('rf', RandomForestClassifier(n_estimators=100, random_state=42))\n",
    "]\n",
    "\n",
    "# Define Stacking Classifier with Logistic Regression (supports multi-class)\n",
    "stacking = StackingClassifier(\n",
    "    estimators=base_learners, \n",
    "    final_estimator=LogisticRegression(multi_class='multinomial', solver='lbfgs')\n",
    ")\n",
    "\n",
    "# Train individual Random Forest model\n",
    "rf = RandomForestClassifier(n_estimators=100, random_state=42)\n",
    "rf.fit(X_train, y_train)\n",
    "rf_pred = rf.predict(X_test)\n",
    "rf_acc = accuracy_score(y_test, rf_pred)\n",
    "\n",
    "# Train Stacking Classifier\n",
    "stacking.fit(X_train, y_train)\n",
    "stacking_pred = stacking.predict(X_test)\n",
    "stacking_acc = accuracy_score(y_test, stacking_pred)\n",
    "\n",
    "# Print accuracy comparison\n",
    "print(f\"Random Forest Accuracy: {rf_acc:.4f}\")\n",
    "print(f\"Stacking Classifier Accuracy: {stacking_acc:.4f}\")\n"
   ]
  },
  {
   "cell_type": "code",
   "execution_count": 40,
   "id": "7fbbe212-2af2-4017-8cf5-a778e7f45b2a",
   "metadata": {},
   "outputs": [
    {
     "name": "stdout",
     "output_type": "stream",
     "text": [
      "Random Forest Accuracy: 1.0\n",
      "Stacking Classifier Accuracy: 1.0\n"
     ]
    }
   ],
   "source": [
    "#32.Train a Stacking Classifier with Random Forest and Logistic Regression and compare accuracy.\n",
    "from sklearn.ensemble import StackingClassifier, RandomForestClassifier\n",
    "from sklearn.linear_model import LogisticRegression\n",
    "from sklearn.model_selection import train_test_split\n",
    "from sklearn.datasets import load_iris\n",
    "from sklearn.metrics import accuracy_score\n",
    "\n",
    "# Load dataset\n",
    "data = load_iris()\n",
    "X_train, X_test, y_train, y_test = train_test_split(data.data, data.target, test_size=0.2, random_state=42)\n",
    "\n",
    "# Define base models\n",
    "base_learners = [\n",
    "    ('rf', RandomForestClassifier(n_estimators=100, random_state=42))\n",
    "]\n",
    "\n",
    "# Define Stacking Classifier with Logistic Regression as the final estimator\n",
    "stacking = StackingClassifier(estimators=base_learners, final_estimator=LogisticRegression())\n",
    "\n",
    "# Train individual Random Forest model\n",
    "rf = RandomForestClassifier(n_estimators=100, random_state=42)\n",
    "rf.fit(X_train, y_train)\n",
    "rf_pred = rf.predict(X_test)\n",
    "rf_acc = accuracy_score(y_test, rf_pred)\n",
    "\n",
    "# Train Stacking Classifier\n",
    "stacking.fit(X_train, y_train)\n",
    "stacking_pred = stacking.predict(X_test)\n",
    "stacking_acc = accuracy_score(y_test, stacking_pred)\n",
    "\n",
    "# Print accuracy comparison\n",
    "print(f\"Random Forest Accuracy: {rf_acc}\")\n",
    "print(f\"Stacking Classifier Accuracy: {stacking_acc}\")\n"
   ]
  },
  {
   "cell_type": "code",
   "execution_count": 42,
   "id": "65edb0f3-95dc-40c3-9fd3-3a5847710b36",
   "metadata": {},
   "outputs": [
    {
     "name": "stderr",
     "output_type": "stream",
     "text": [
      "C:\\Users\\PC DOCTOR\\anaconda3\\Lib\\site-packages\\sklearn\\ensemble\\_base.py:166: FutureWarning: `base_estimator` was renamed to `estimator` in version 1.2 and will be removed in 1.4.\n",
      "  warnings.warn(\n"
     ]
    },
    {
     "name": "stdout",
     "output_type": "stream",
     "text": [
      "Bootstrap: True, Mean Squared Error: 4009.3458\n"
     ]
    },
    {
     "name": "stderr",
     "output_type": "stream",
     "text": [
      "C:\\Users\\PC DOCTOR\\anaconda3\\Lib\\site-packages\\sklearn\\ensemble\\_base.py:166: FutureWarning: `base_estimator` was renamed to `estimator` in version 1.2 and will be removed in 1.4.\n",
      "  warnings.warn(\n"
     ]
    },
    {
     "name": "stdout",
     "output_type": "stream",
     "text": [
      "Bootstrap: False, Mean Squared Error: 10530.7634\n"
     ]
    }
   ],
   "source": [
    "#33.Train a Bagging Regressor with different levels of bootstrap samples and compare performance.\n",
    "from sklearn.ensemble import BaggingRegressor\n",
    "from sklearn.tree import DecisionTreeRegressor\n",
    "from sklearn.model_selection import train_test_split\n",
    "from sklearn.datasets import make_regression\n",
    "from sklearn.metrics import mean_squared_error\n",
    "\n",
    "# Load synthetic regression dataset\n",
    "X, y = make_regression(n_samples=500, n_features=10, noise=0.1, random_state=42)\n",
    "X_train, X_test, y_train, y_test = train_test_split(X, y, test_size=0.2, random_state=42)\n",
    "\n",
    "# Test different bootstrap sample levels\n",
    "for bootstrap in [True, False]:  # True enables bootstrapping, False disables it\n",
    "    model = BaggingRegressor(\n",
    "        base_estimator=DecisionTreeRegressor(), \n",
    "        n_estimators=50, \n",
    "        bootstrap=bootstrap, \n",
    "        random_state=42\n",
    "    )\n",
    "    model.fit(X_train, y_train)\n",
    "    y_pred = model.predict(X_test)\n",
    "    mse = mean_squared_error(y_test, y_pred)\n",
    "    \n",
    "    print(f\"Bootstrap: {bootstrap}, Mean Squared Error: {mse:.4f}\")\n"
   ]
  },
  {
   "cell_type": "code",
   "execution_count": null,
   "id": "773cf93c-c163-4eee-8c75-61f8db0534fc",
   "metadata": {},
   "outputs": [],
   "source": []
  }
 ],
 "metadata": {
  "kernelspec": {
   "display_name": "Python 3 (ipykernel)",
   "language": "python",
   "name": "python3"
  },
  "language_info": {
   "codemirror_mode": {
    "name": "ipython",
    "version": 3
   },
   "file_extension": ".py",
   "mimetype": "text/x-python",
   "name": "python",
   "nbconvert_exporter": "python",
   "pygments_lexer": "ipython3",
   "version": "3.11.7"
  }
 },
 "nbformat": 4,
 "nbformat_minor": 5
}
